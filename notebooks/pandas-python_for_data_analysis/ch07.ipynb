version https://git-lfs.github.com/spec/v1
oid sha256:fc4cf40bffcd3d3eb0b8a542bd3ef0f9cb566296cf714ce7a934d856963045f7
size 27677
