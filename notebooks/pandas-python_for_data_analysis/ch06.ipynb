version https://git-lfs.github.com/spec/v1
oid sha256:06e9735f0c1504cc6a35cd23258b8763dde05a31eb26e24040ba31628fa8ce00
size 25266
