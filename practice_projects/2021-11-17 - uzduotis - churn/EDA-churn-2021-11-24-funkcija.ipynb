version https://git-lfs.github.com/spec/v1
oid sha256:0636608153b78c1477764c961cb80dc8ab35b3fd3274643bed40b82b844dc1e3
size 84550
